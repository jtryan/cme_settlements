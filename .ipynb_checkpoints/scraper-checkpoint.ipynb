{
 "cells": [
  {
   "cell_type": "code",
   "execution_count": 1,
   "id": "cca41df2-cb45-4415-89cf-2e77bc29c9db",
   "metadata": {},
   "outputs": [],
   "source": [
    "import requests\n",
    "from bs4 import BeautifulSoup\n",
    "from selenium import webdriver\n",
    "from selenium.webdriver.common.by import By\n",
    "from selenium.webdriver.support.ui import WebDriverWait\n",
    "from selenium.webdriver.support import expected_conditions as EC\n",
    "from webdriver_manager.chrome import ChromeDriverManager\n",
    "\n",
    "from urls import urls\n",
    "\n",
    "# driver = webdriver.Chrome()\n",
    "symbol = \"\"\n",
    "url = \"\"\n",
    "settlement_list = []\n",
    "# url = \"https://www.cmegroup.com/markets/equities/sp/e-mini-sandp500.settlements.html\"\n"
   ]
  },
  {
   "cell_type": "code",
   "execution_count": 2,
   "id": "10fd0d98-a87d-4ca6-8475-14ff42738201",
   "metadata": {},
   "outputs": [],
   "source": [
    "for symbol,url in urls.items():\n",
    "    symbol = symbol\n",
    "    url = url\n",
    "    ##\n",
    "    driver = webdriver.Chrome()\n",
    "    driver.get(url)\n",
    "    wait = WebDriverWait(driver, 20)\n",
    "    soup = BeautifulSoup(driver.page_source,\"html.parser\")\n",
    "    ###\n",
    "    table = soup.find(\"div\", {\"class\": \"main-table-wrapper\", \"role\":\"presentation\"}, \"td\")\n",
    "    tbody = table.find('tbody')\n",
    "    tr = tbody.find('tr')\n",
    "    td = tr.findAll('td')\n",
    "\n",
    "    dropdown = soup.find(\"div\", {\"class\": \"universal-dropdown has-custom-scroll dropdown\"})\n",
    "    date = dropdown.find(\"span\", {\"class\": \"button-text\"}).text\n",
    "    settlement_list.append({ \"Symbol\": symbol, \"Date\": date, \"Settlement\": td[6].text })\n",
    "    driver.close()\n",
    "\n"
   ]
  },
  {
   "cell_type": "code",
   "execution_count": 3,
   "id": "714becbc-9461-4a4e-926f-b083e06e3a78",
   "metadata": {},
   "outputs": [
    {
     "data": {
      "text/plain": [
       "[{'Symbol': 'ES', 'Date': 'Friday, 03 May 2024', 'Settlement': '5154.75'},\n",
       " {'Symbol': 'NQ', 'Date': 'Friday, 03 May 2024', 'Settlement': '18000.75'},\n",
       " {'Symbol': 'CL', 'Date': 'Friday, 03 May 2024', 'Settlement': '78.11'},\n",
       " {'Symbol': 'GC', 'Date': 'Friday, 03 May 2024', 'Settlement': '2299.0'},\n",
       " {'Symbol': 'ZB', 'Date': 'Friday, 03 May 2024', 'Settlement': \"115'30\"},\n",
       " {'Symbol': 'ZN', 'Date': 'Friday, 03 May 2024', 'Settlement': \"108'275\"},\n",
       " {'Symbol': '6E', 'Date': 'Friday, 03 May 2024', 'Settlement': '1.077050'},\n",
       " {'Symbol': 'YM', 'Date': 'Friday, 03 May 2024', 'Settlement': '38832.00'},\n",
       " {'Symbol': 'RTY', 'Date': 'Friday, 03 May 2024', 'Settlement': '2045.80'}]"
      ]
     },
     "execution_count": 3,
     "metadata": {},
     "output_type": "execute_result"
    }
   ],
   "source": [
    "settlement_list"
   ]
  },
  {
   "cell_type": "code",
   "execution_count": null,
   "id": "b2736f80-6f0b-4b91-b783-c6bff7a75b27",
   "metadata": {},
   "outputs": [],
   "source": [
    "def get_page(url):\n",
    "    driver.get(url)\n",
    "    wait = WebDriverWait(driver, 20)\n",
    "    return BeautifulSoup(driver.page_source,\"html.parser\")"
   ]
  },
  {
   "cell_type": "code",
   "execution_count": null,
   "id": "d0f6de2b-9232-492e-88d2-207f92b7c35d",
   "metadata": {},
   "outputs": [],
   "source": [
    "# get Month, settlement need to carry through symbol\n",
    "def get_cell_info(symbol, soup):\n",
    "    lista = []\n",
    "    table = soup.find(\"div\", {\"class\": \"main-table-wrapper\", \"role\":\"presentation\"}, \"td\")\n",
    "    tbody = table.find('tbody')\n",
    "    tr = tbody.find('tr')\n",
    "    td = tr.findAll('td')\n",
    "\n",
    "    dropdown = soup.find(\"div\", {\"class\": \"universal-dropdown has-custom-scroll dropdown\"})\n",
    "    date = dropdown.find(\"span\", {\"class\": \"button-text\"}).text\n",
    "    lista.append({ \"Symbol\": symbol, \"Date\": date, \"Settlement\": td[6].text })\n",
    "    return lista"
   ]
  },
  {
   "cell_type": "code",
   "execution_count": null,
   "id": "0f2070ba-5f08-43cd-a113-1738aad4e8ec",
   "metadata": {},
   "outputs": [],
   "source": []
  },
  {
   "cell_type": "code",
   "execution_count": null,
   "id": "74684a7c-a433-4d5e-beba-da07d15da2e4",
   "metadata": {},
   "outputs": [],
   "source": [
    "if __name__ == \"__main__\":\n",
    "    soup = get_page(url)\n",
    "    settlement_list = get_cell_info(soup)"
   ]
  },
  {
   "cell_type": "code",
   "execution_count": null,
   "id": "72735ec4-9b14-4a48-b096-79d62c437a84",
   "metadata": {},
   "outputs": [],
   "source": []
  },
  {
   "cell_type": "code",
   "execution_count": null,
   "id": "63c450a0-b16f-4e49-98f4-38ccf55a5b3f",
   "metadata": {},
   "outputs": [],
   "source": []
  },
  {
   "cell_type": "code",
   "execution_count": null,
   "id": "d9f0f3e8-8576-4732-8787-eb6b0a8019fc",
   "metadata": {},
   "outputs": [],
   "source": []
  }
 ],
 "metadata": {
  "kernelspec": {
   "display_name": "Python [conda env:anaconda3-py3.11.7] *",
   "language": "python",
   "name": "conda-env-anaconda3-py3.11.7-py"
  },
  "language_info": {
   "codemirror_mode": {
    "name": "ipython",
    "version": 3
   },
   "file_extension": ".py",
   "mimetype": "text/x-python",
   "name": "python",
   "nbconvert_exporter": "python",
   "pygments_lexer": "ipython3",
   "version": "3.12.0"
  }
 },
 "nbformat": 4,
 "nbformat_minor": 5
}
